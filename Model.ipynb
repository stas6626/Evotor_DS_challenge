{
 "cells": [
  {
   "cell_type": "code",
   "execution_count": 1,
   "metadata": {},
   "outputs": [
    {
     "name": "stderr",
     "output_type": "stream",
     "text": [
      "/usr/local/lib/python3.5/dist-packages/sklearn/cross_validation.py:44: DeprecationWarning: This module was deprecated in version 0.18 in favor of the model_selection module into which all the refactored classes and functions are moved. Also note that the interface of the new CV iterators are different from that of this module. This module will be removed in 0.20.\n",
      "  \"This module will be removed in 0.20.\", DeprecationWarning)\n"
     ]
    }
   ],
   "source": [
    "import warnings\n",
    "warnings.simplefilter(\"ignore\")\n",
    "import scipy #BSD 3-clause \n",
    "import numpy as np #BSD 3-clause \n",
    "import pandas as pd #BSD 3-clause \n",
    "from sklearn import feature_extraction,cross_validation,svm,linear_model,ensemble#BSD 3-clause\n",
    "import xgboost# Apache-2 \n",
    "import lightgbm#MIT\n",
    "from bayes_opt import BayesianOptimization#MIT\n"
   ]
  },
  {
   "cell_type": "code",
   "execution_count": 2,
   "metadata": {
    "collapsed": true
   },
   "outputs": [],
   "source": [
    "df=pd.read_csv(\"evo_train.csv\")\n",
    "test=pd.read_csv(\"evo_test.csv\")\n",
    "cat=pd.read_csv(\"categories.csv\")"
   ]
  },
  {
   "cell_type": "code",
   "execution_count": 3,
   "metadata": {
    "collapsed": true
   },
   "outputs": [
    {
     "data": {
      "text/html": [
       "<div>\n",
       "<style>\n",
       "    .dataframe thead tr:only-child th {\n",
       "        text-align: right;\n",
       "    }\n",
       "\n",
       "    .dataframe thead th {\n",
       "        text-align: left;\n",
       "    }\n",
       "\n",
       "    .dataframe tbody tr th {\n",
       "        vertical-align: top;\n",
       "    }\n",
       "</style>\n",
       "<table border=\"1\" class=\"dataframe\">\n",
       "  <thead>\n",
       "    <tr style=\"text-align: right;\">\n",
       "      <th></th>\n",
       "      <th>NAME</th>\n",
       "      <th>id</th>\n",
       "    </tr>\n",
       "  </thead>\n",
       "  <tbody>\n",
       "    <tr>\n",
       "      <th>0</th>\n",
       "      <td>Пиво \"Рижское\" светлое 0,5л</td>\n",
       "      <td>0</td>\n",
       "    </tr>\n",
       "    <tr>\n",
       "      <th>1</th>\n",
       "      <td>плавленый сыр король сыров 80г</td>\n",
       "      <td>1</td>\n",
       "    </tr>\n",
       "    <tr>\n",
       "      <th>2</th>\n",
       "      <td>заказ имл 7500342101814</td>\n",
       "      <td>2</td>\n",
       "    </tr>\n",
       "    <tr>\n",
       "      <th>3</th>\n",
       "      <td>Мерриес трусики М58</td>\n",
       "      <td>3</td>\n",
       "    </tr>\n",
       "    <tr>\n",
       "      <th>4</th>\n",
       "      <td>лупа канц мал</td>\n",
       "      <td>4</td>\n",
       "    </tr>\n",
       "    <tr>\n",
       "      <th>5</th>\n",
       "      <td>Шампунь ЧЛ Укрепление и уход. 400мл</td>\n",
       "      <td>5</td>\n",
       "    </tr>\n",
       "    <tr>\n",
       "      <th>6</th>\n",
       "      <td>Серьги-пуссеты</td>\n",
       "      <td>6</td>\n",
       "    </tr>\n",
       "    <tr>\n",
       "      <th>7</th>\n",
       "      <td>Краска Igora Royal 8-4</td>\n",
       "      <td>7</td>\n",
       "    </tr>\n",
       "    <tr>\n",
       "      <th>8</th>\n",
       "      <td>Зубочистики косточка кальциевая вкус курицы д/...</td>\n",
       "      <td>8</td>\n",
       "    </tr>\n",
       "    <tr>\n",
       "      <th>9</th>\n",
       "      <td>Вешалка Кружева-5</td>\n",
       "      <td>9</td>\n",
       "    </tr>\n",
       "    <tr>\n",
       "      <th>10</th>\n",
       "      <td>Наклейки для вписывания \"Танки\" (6шт)</td>\n",
       "      <td>10</td>\n",
       "    </tr>\n",
       "    <tr>\n",
       "      <th>11</th>\n",
       "      <td>Пиво светлое (пастеризованное) \"Балтика экспор...</td>\n",
       "      <td>11</td>\n",
       "    </tr>\n",
       "    <tr>\n",
       "      <th>12</th>\n",
       "      <td>туфли с9</td>\n",
       "      <td>12</td>\n",
       "    </tr>\n",
       "    <tr>\n",
       "      <th>13</th>\n",
       "      <td>Табак трубочный  BORKUM RIFF CERRY CAVENDISH</td>\n",
       "      <td>13</td>\n",
       "    </tr>\n",
       "    <tr>\n",
       "      <th>14</th>\n",
       "      <td>Пиво \"Портер\" темное 20%  0,5л Тагил</td>\n",
       "      <td>14</td>\n",
       "    </tr>\n",
       "    <tr>\n",
       "      <th>15</th>\n",
       "      <td>ПИВО СВЕТЛОЕ \"ЛИДСКОЕ ПИЛСНЕР\" ПАСТ. 4,2% 2,0Л...</td>\n",
       "      <td>15</td>\n",
       "    </tr>\n",
       "    <tr>\n",
       "      <th>16</th>\n",
       "      <td>ПЕРЕХОДНИК. СКАРТ-4/3</td>\n",
       "      <td>16</td>\n",
       "    </tr>\n",
       "    <tr>\n",
       "      <th>17</th>\n",
       "      <td>Набор: 2 чашки 0.175л + 2 блюдца \"Свежий ветер\"</td>\n",
       "      <td>17</td>\n",
       "    </tr>\n",
       "    <tr>\n",
       "      <th>18</th>\n",
       "      <td>Вино «Шардоне Трибуто» защищенного наименовани...</td>\n",
       "      <td>18</td>\n",
       "    </tr>\n",
       "    <tr>\n",
       "      <th>19</th>\n",
       "      <td>ID collection полуботинки муж. арт. 677825/10-03</td>\n",
       "      <td>19</td>\n",
       "    </tr>\n",
       "  </tbody>\n",
       "</table>\n",
       "</div>"
      ],
      "text/plain": [
       "                                                 NAME  id\n",
       "0                         Пиво \"Рижское\" светлое 0,5л   0\n",
       "1                      плавленый сыр король сыров 80г   1\n",
       "2                             заказ имл 7500342101814   2\n",
       "3                                 Мерриес трусики М58   3\n",
       "4                                      лупа канц мал    4\n",
       "5                 Шампунь ЧЛ Укрепление и уход. 400мл   5\n",
       "6                                      Серьги-пуссеты   6\n",
       "7                              Краска Igora Royal 8-4   7\n",
       "8   Зубочистики косточка кальциевая вкус курицы д/...   8\n",
       "9                                   Вешалка Кружева-5   9\n",
       "10              Наклейки для вписывания \"Танки\" (6шт)  10\n",
       "11  Пиво светлое (пастеризованное) \"Балтика экспор...  11\n",
       "12                                           туфли с9  12\n",
       "13       Табак трубочный  BORKUM RIFF CERRY CAVENDISH  13\n",
       "14               Пиво \"Портер\" темное 20%  0,5л Тагил  14\n",
       "15  ПИВО СВЕТЛОЕ \"ЛИДСКОЕ ПИЛСНЕР\" ПАСТ. 4,2% 2,0Л...  15\n",
       "16                              ПЕРЕХОДНИК. СКАРТ-4/3  16\n",
       "17    Набор: 2 чашки 0.175л + 2 блюдца \"Свежий ветер\"  17\n",
       "18  Вино «Шардоне Трибуто» защищенного наименовани...  18\n",
       "19   ID collection полуботинки муж. арт. 677825/10-03  19"
      ]
     },
     "execution_count": 3,
     "metadata": {},
     "output_type": "execute_result"
    }
   ],
   "source": [
    "import re\n",
    "test.head(20)"
   ]
  },
  {
   "cell_type": "code",
   "execution_count": 16,
   "metadata": {
    "scrolled": true
   },
   "outputs": [
    {
     "data": {
      "text/html": [
       "<div>\n",
       "<style>\n",
       "    .dataframe thead tr:only-child th {\n",
       "        text-align: right;\n",
       "    }\n",
       "\n",
       "    .dataframe thead th {\n",
       "        text-align: left;\n",
       "    }\n",
       "\n",
       "    .dataframe tbody tr th {\n",
       "        vertical-align: top;\n",
       "    }\n",
       "</style>\n",
       "<table border=\"1\" class=\"dataframe\">\n",
       "  <thead>\n",
       "    <tr style=\"text-align: right;\">\n",
       "      <th></th>\n",
       "      <th>GROUP_ID</th>\n",
       "      <th>NAME</th>\n",
       "      <th>PATH</th>\n",
       "    </tr>\n",
       "  </thead>\n",
       "  <tbody>\n",
       "    <tr>\n",
       "      <th>0</th>\n",
       "      <td>6</td>\n",
       "      <td>Продукты питания</td>\n",
       "      <td>Прод-&gt;Продукты питания</td>\n",
       "    </tr>\n",
       "    <tr>\n",
       "      <th>1</th>\n",
       "      <td>7</td>\n",
       "      <td>Табачные изделия\\r</td>\n",
       "      <td>Непрод-&gt;Табачные изделия\\r</td>\n",
       "    </tr>\n",
       "    <tr>\n",
       "      <th>2</th>\n",
       "      <td>9</td>\n",
       "      <td>н/д</td>\n",
       "      <td>н/д-&gt;н/д</td>\n",
       "    </tr>\n",
       "    <tr>\n",
       "      <th>3</th>\n",
       "      <td>12</td>\n",
       "      <td>Бытовая техника, оборудование и электроника</td>\n",
       "      <td>Непрод-&gt;Бытовая техника, оборудование и электр...</td>\n",
       "    </tr>\n",
       "    <tr>\n",
       "      <th>4</th>\n",
       "      <td>14</td>\n",
       "      <td>Косметика, гигиена и парфюмерия</td>\n",
       "      <td>Непрод-&gt;Косметика, гигиена и парфюмерия</td>\n",
       "    </tr>\n",
       "    <tr>\n",
       "      <th>5</th>\n",
       "      <td>15</td>\n",
       "      <td>Муз.инструменты</td>\n",
       "      <td>Непрод-&gt;Муз.инструменты</td>\n",
       "    </tr>\n",
       "    <tr>\n",
       "      <th>6</th>\n",
       "      <td>16</td>\n",
       "      <td>Канцтовары</td>\n",
       "      <td>Непрод-&gt;Канцтовары</td>\n",
       "    </tr>\n",
       "    <tr>\n",
       "      <th>7</th>\n",
       "      <td>17</td>\n",
       "      <td>Текстильные товары</td>\n",
       "      <td>Непрод-&gt;Текстильные товары</td>\n",
       "    </tr>\n",
       "    <tr>\n",
       "      <th>8</th>\n",
       "      <td>18</td>\n",
       "      <td>Спорттовары</td>\n",
       "      <td>Непрод-&gt;Спорттовары</td>\n",
       "    </tr>\n",
       "    <tr>\n",
       "      <th>9</th>\n",
       "      <td>19</td>\n",
       "      <td>Упаковка</td>\n",
       "      <td>Непрод-&gt;Упаковка</td>\n",
       "    </tr>\n",
       "    <tr>\n",
       "      <th>10</th>\n",
       "      <td>20</td>\n",
       "      <td>Бытовые услуги</td>\n",
       "      <td>Непрод-&gt;Бытовые услуги</td>\n",
       "    </tr>\n",
       "    <tr>\n",
       "      <th>11</th>\n",
       "      <td>21</td>\n",
       "      <td>Одежда и галантерея</td>\n",
       "      <td>Непрод-&gt;Одежда и галантерея</td>\n",
       "    </tr>\n",
       "    <tr>\n",
       "      <th>12</th>\n",
       "      <td>22</td>\n",
       "      <td>Автомобили и мотоциклы</td>\n",
       "      <td>Непрод-&gt;Автомобили и мотоциклы</td>\n",
       "    </tr>\n",
       "    <tr>\n",
       "      <th>13</th>\n",
       "      <td>24</td>\n",
       "      <td>Хозтовары</td>\n",
       "      <td>Непрод-&gt;Хозтовары</td>\n",
       "    </tr>\n",
       "    <tr>\n",
       "      <th>14</th>\n",
       "      <td>25</td>\n",
       "      <td>Обувь</td>\n",
       "      <td>Непрод-&gt;Обувь</td>\n",
       "    </tr>\n",
       "    <tr>\n",
       "      <th>15</th>\n",
       "      <td>26</td>\n",
       "      <td>Детские товары, игрушки</td>\n",
       "      <td>Непрод-&gt;Детские товары, игрушки</td>\n",
       "    </tr>\n",
       "    <tr>\n",
       "      <th>16</th>\n",
       "      <td>27</td>\n",
       "      <td>Мед.товары</td>\n",
       "      <td>Непрод-&gt;Мед.товары</td>\n",
       "    </tr>\n",
       "    <tr>\n",
       "      <th>17</th>\n",
       "      <td>28</td>\n",
       "      <td>Стройматериалы</td>\n",
       "      <td>Непрод-&gt;Стройматериалы</td>\n",
       "    </tr>\n",
       "    <tr>\n",
       "      <th>18</th>\n",
       "      <td>29</td>\n",
       "      <td>Сувениры</td>\n",
       "      <td>Непрод-&gt;Сувениры</td>\n",
       "    </tr>\n",
       "    <tr>\n",
       "      <th>19</th>\n",
       "      <td>30</td>\n",
       "      <td>Цветы</td>\n",
       "      <td>Непрод-&gt;Цветы</td>\n",
       "    </tr>\n",
       "    <tr>\n",
       "      <th>20</th>\n",
       "      <td>32</td>\n",
       "      <td>Позиция по свободной цене</td>\n",
       "      <td>Позиция по свободной цене-&gt;Позиция по свободно...</td>\n",
       "    </tr>\n",
       "    <tr>\n",
       "      <th>21</th>\n",
       "      <td>34</td>\n",
       "      <td>Алкоголь</td>\n",
       "      <td>Алкоголь-&gt;Алкоголь</td>\n",
       "    </tr>\n",
       "    <tr>\n",
       "      <th>22</th>\n",
       "      <td>35</td>\n",
       "      <td>Пиво, слабоалкогольные напитки</td>\n",
       "      <td>Алкоголь-&gt;Пиво, слабоалкогольные напитки</td>\n",
       "    </tr>\n",
       "    <tr>\n",
       "      <th>23</th>\n",
       "      <td>36</td>\n",
       "      <td>Компьютерная техника и ПО</td>\n",
       "      <td>Непрод-&gt;Компьютерная техника и ПО</td>\n",
       "    </tr>\n",
       "    <tr>\n",
       "      <th>24</th>\n",
       "      <td>37</td>\n",
       "      <td>Зоотовары</td>\n",
       "      <td>Непрод-&gt;Зоотовары</td>\n",
       "    </tr>\n",
       "    <tr>\n",
       "      <th>25</th>\n",
       "      <td>38</td>\n",
       "      <td>Мебель</td>\n",
       "      <td>Непрод-&gt;Мебель</td>\n",
       "    </tr>\n",
       "    <tr>\n",
       "      <th>26</th>\n",
       "      <td>52</td>\n",
       "      <td>Книги</td>\n",
       "      <td>Непрод-&gt;Книги</td>\n",
       "    </tr>\n",
       "    <tr>\n",
       "      <th>27</th>\n",
       "      <td>59</td>\n",
       "      <td>Игрушки для взрослых</td>\n",
       "      <td>Непрод-&gt;Игрушки для взрослых</td>\n",
       "    </tr>\n",
       "    <tr>\n",
       "      <th>28</th>\n",
       "      <td>60</td>\n",
       "      <td>Ювелирные изделия</td>\n",
       "      <td>Непрод-&gt;Ювелирные изделия</td>\n",
       "    </tr>\n",
       "  </tbody>\n",
       "</table>\n",
       "</div>"
      ],
      "text/plain": [
       "    GROUP_ID                                         NAME  \\\n",
       "0          6                             Продукты питания   \n",
       "1          7                           Табачные изделия\\r   \n",
       "2          9                                          н/д   \n",
       "3         12  Бытовая техника, оборудование и электроника   \n",
       "4         14              Косметика, гигиена и парфюмерия   \n",
       "5         15                              Муз.инструменты   \n",
       "6         16                                   Канцтовары   \n",
       "7         17                           Текстильные товары   \n",
       "8         18                                  Спорттовары   \n",
       "9         19                                     Упаковка   \n",
       "10        20                               Бытовые услуги   \n",
       "11        21                          Одежда и галантерея   \n",
       "12        22                       Автомобили и мотоциклы   \n",
       "13        24                                    Хозтовары   \n",
       "14        25                                        Обувь   \n",
       "15        26                      Детские товары, игрушки   \n",
       "16        27                                   Мед.товары   \n",
       "17        28                               Стройматериалы   \n",
       "18        29                                     Сувениры   \n",
       "19        30                                        Цветы   \n",
       "20        32                    Позиция по свободной цене   \n",
       "21        34                                     Алкоголь   \n",
       "22        35               Пиво, слабоалкогольные напитки   \n",
       "23        36                    Компьютерная техника и ПО   \n",
       "24        37                                    Зоотовары   \n",
       "25        38                                       Мебель   \n",
       "26        52                                        Книги   \n",
       "27        59                         Игрушки для взрослых   \n",
       "28        60                            Ювелирные изделия   \n",
       "\n",
       "                                                 PATH  \n",
       "0                              Прод->Продукты питания  \n",
       "1                          Непрод->Табачные изделия\\r  \n",
       "2                                            н/д->н/д  \n",
       "3   Непрод->Бытовая техника, оборудование и электр...  \n",
       "4             Непрод->Косметика, гигиена и парфюмерия  \n",
       "5                             Непрод->Муз.инструменты  \n",
       "6                                  Непрод->Канцтовары  \n",
       "7                          Непрод->Текстильные товары  \n",
       "8                                 Непрод->Спорттовары  \n",
       "9                                    Непрод->Упаковка  \n",
       "10                             Непрод->Бытовые услуги  \n",
       "11                        Непрод->Одежда и галантерея  \n",
       "12                     Непрод->Автомобили и мотоциклы  \n",
       "13                                  Непрод->Хозтовары  \n",
       "14                                      Непрод->Обувь  \n",
       "15                    Непрод->Детские товары, игрушки  \n",
       "16                                 Непрод->Мед.товары  \n",
       "17                             Непрод->Стройматериалы  \n",
       "18                                   Непрод->Сувениры  \n",
       "19                                      Непрод->Цветы  \n",
       "20  Позиция по свободной цене->Позиция по свободно...  \n",
       "21                                 Алкоголь->Алкоголь  \n",
       "22           Алкоголь->Пиво, слабоалкогольные напитки  \n",
       "23                  Непрод->Компьютерная техника и ПО  \n",
       "24                                  Непрод->Зоотовары  \n",
       "25                                     Непрод->Мебель  \n",
       "26                                      Непрод->Книги  \n",
       "27                       Непрод->Игрушки для взрослых  \n",
       "28                          Непрод->Ювелирные изделия  "
      ]
     },
     "execution_count": 16,
     "metadata": {},
     "output_type": "execute_result"
    }
   ],
   "source": [
    "cat.head(40)"
   ]
  },
  {
   "cell_type": "code",
   "execution_count": 14,
   "metadata": {},
   "outputs": [
    {
     "data": {
      "text/plain": [
       "7     6045\n",
       "6     6014\n",
       "24    5975\n",
       "14    5972\n",
       "34    5963\n",
       "35    5957\n",
       "30    3050\n",
       "26    2999\n",
       "25    2961\n",
       "29     639\n",
       "28     633\n",
       "9      626\n",
       "37     618\n",
       "17     616\n",
       "18     613\n",
       "16     612\n",
       "20     608\n",
       "59     607\n",
       "27     606\n",
       "19     604\n",
       "22     603\n",
       "21     587\n",
       "52     586\n",
       "60     584\n",
       "36     572\n",
       "12     568\n",
       "38     394\n",
       "15     235\n",
       "32      13\n",
       "Name: GROUP_ID, dtype: int64"
      ]
     },
     "execution_count": 14,
     "metadata": {},
     "output_type": "execute_result"
    }
   ],
   "source": [
    "df.GROUP_ID.value_counts()#распределние классов"
   ]
  },
  {
   "cell_type": "code",
   "execution_count": 4,
   "metadata": {
    "collapsed": true
   },
   "outputs": [],
   "source": [
    "X=df.NAME[df.GROUP_ID!=32]#выкинул самый маленький класс\n",
    "X1=df.NAME\n",
    "y=df.GROUP_ID[df.GROUP_ID!=32]#дало прирост в -0.1%\n",
    "y1=df.GROUP_ID"
   ]
  },
  {
   "cell_type": "code",
   "execution_count": 77,
   "metadata": {},
   "outputs": [
    {
     "data": {
      "text/plain": [
       "['Пиво', 'Рижское', 'светлое']"
      ]
     },
     "execution_count": 77,
     "metadata": {},
     "output_type": "execute_result"
    }
   ],
   "source": [
    "re.findall('[а-я&А-Я]\\w+',test.NAME[0])#разбирался с регулярками, дабы тюнить tfidf или word2vec, не понадобилось"
   ]
  },
  {
   "cell_type": "code",
   "execution_count": 75,
   "metadata": {},
   "outputs": [
    {
     "name": "stdout",
     "output_type": "stream",
     "text": [
      "CPU times: user 144 ms, sys: 0 ns, total: 144 ms\n",
      "Wall time: 145 ms\n"
     ]
    }
   ],
   "source": [
    "%%time\n",
    "q=[]\n",
    "for i in test.NAME:\n",
    "    q.append(re.findall(r'[а-я&А-Я]\\w+',i))"
   ]
  },
  {
   "cell_type": "code",
   "execution_count": 78,
   "metadata": {
    "scrolled": true
   },
   "outputs": [
    {
     "data": {
      "text/plain": [
       "array([ 0.,  0.,  0.,  0.,  0.,  0.,  0.,  0.,  0.,  0.,  0.,  0.,  0.,\n",
       "        0.,  0.,  0.,  0.,  0.,  0.,  0.,  0.,  0.,  0.,  0.,  0.,  0.,\n",
       "        0.,  0.,  0.,  0.,  0.,  0.,  0.,  0.,  0.,  0.,  0.,  0.,  0.,\n",
       "        0.,  0.,  0.,  0.,  0.,  0.,  0.,  0.,  0.,  0.,  0.,  0.,  0.,\n",
       "        0.,  0.,  0.,  0.,  0.,  0.,  0.,  0.,  0.,  0.,  0.,  0.,  0.,\n",
       "        0.,  0.,  0.,  0.,  0.,  0.,  0.,  0.,  0.,  0.,  0.,  0.,  0.,\n",
       "        0.,  0.,  0.,  0.,  0.,  0.,  0.,  0.,  0.,  0.,  0.,  0.,  0.,\n",
       "        0.,  0.,  0.,  0.,  0.,  0.,  0.,  0.,  0.,  0.,  0.,  0.,  0.,\n",
       "        0.,  0.,  0.,  0.,  0.,  0.,  0.,  0.,  0.,  0.,  0.,  0.,  0.,\n",
       "        0.,  0.,  0.,  0.,  0.,  0.,  0.,  0.,  0.,  0.,  0.,  0.,  0.,\n",
       "        0.,  0.,  0.,  0.,  0.,  0.,  0.,  0.,  0.,  0.,  0.,  0.,  0.,\n",
       "        0.,  0.,  0.,  0.,  0.,  0.,  0.,  0.,  0.,  0.,  0.,  0.,  0.,\n",
       "        0.,  0.,  0.,  0.,  0.,  0.,  0.,  0.,  0.,  0.,  0.,  0.,  0.,\n",
       "        0.,  0.,  0.,  0.,  0.,  0.,  0.,  0.,  0.,  0.,  0.,  0.,  0.,\n",
       "        0.,  0.,  0.,  0.,  0.,  0.,  0.,  0.,  0.,  0.,  0.,  0.,  0.,\n",
       "        0.,  0.,  0.,  0.,  0.,  0.,  0.,  0.,  0.,  0.,  0.,  0.,  0.,\n",
       "        0.,  0.,  0.,  0.,  0.,  0.,  0.,  0.,  0.,  0.,  0.,  0.,  0.,\n",
       "        0.,  0.,  0.,  0.,  0.,  0.,  0.,  0.,  0.,  0.,  0.,  0.,  0.,\n",
       "        0.,  0.,  0.,  0.,  0.,  0.,  0.,  0.,  0.,  0.,  0.,  0.,  0.,\n",
       "        0.,  0.,  0.,  0.,  0.,  0.,  0.,  0.,  0.,  0.,  0.,  0.,  0.,\n",
       "        0.,  0.,  0.,  0.,  0.,  0.,  0.,  0.,  0.,  0.,  0.,  0.,  0.,\n",
       "        0.,  0.,  0.,  0.,  0.,  0.,  0.,  0.,  0.,  0.,  0.,  0.,  0.,\n",
       "        0.,  0.,  0.,  0.,  0.,  0.,  0.,  0.,  0.,  0.,  0.,  0.,  0.,  0.])"
      ]
     },
     "execution_count": 78,
     "metadata": {},
     "output_type": "execute_result"
    }
   ],
   "source": [
    "np.zeros(300)"
   ]
  },
  {
   "cell_type": "code",
   "execution_count": 5,
   "metadata": {},
   "outputs": [
    {
     "data": {
      "text/plain": [
       "(55847,)"
      ]
     },
     "execution_count": 5,
     "metadata": {},
     "output_type": "execute_result"
    }
   ],
   "source": [
    "X.shape"
   ]
  },
  {
   "cell_type": "code",
   "execution_count": 7,
   "metadata": {
    "collapsed": true
   },
   "outputs": [],
   "source": [
    "feature_extraction.text.CountVectorizer()\n",
    "tf=feature_extraction.text.TfidfVectorizer(ngram_range=(1,2))\n",
    "X_tf=tf.fit_transform(X)\n",
    "tes=tf.transform(test.NAME)\n",
    "X_tf1=tf.fit_transform(X1)\n",
    "tes1=tf.transform(test.NAME)\n"
   ]
  },
  {
   "cell_type": "code",
   "execution_count": 8,
   "metadata": {
    "collapsed": true
   },
   "outputs": [],
   "source": [
    "sm=svm.LinearSVC(loss=\"hinge\")"
   ]
  },
  {
   "cell_type": "code",
   "execution_count": 98,
   "metadata": {
    "scrolled": true
   },
   "outputs": [
    {
     "name": "stdout",
     "output_type": "stream",
     "text": [
      "0.933854139256\n",
      "CPU times: user 1min 11s, sys: 156 ms, total: 1min 11s\n",
      "Wall time: 1min 11s\n"
     ]
    }
   ],
   "source": [
    "%%time\n",
    "sm=svm.LinearSVC(loss=\"hinge\")\n",
    "tf=feature_extraction.text.TfidfVectorizer(ngram_range=(1,2))\n",
    "X_tf=tf.fit_transform(X)\n",
    "tes=tf.transform(test.NAME)\n",
    "print(cross_validation.cross_val_score(sm,X_tf,y,cv=5).mean())"
   ]
  },
  {
   "cell_type": "code",
   "execution_count": 99,
   "metadata": {},
   "outputs": [
    {
     "name": "stdout",
     "output_type": "stream",
     "text": [
      "0.937113332872\n",
      "CPU times: user 57.6 s, sys: 384 ms, total: 57.9 s\n",
      "Wall time: 58 s\n"
     ]
    }
   ],
   "source": [
    "%%time\n",
    "sm=svm.LinearSVC()\n",
    "tf=feature_extraction.text.TfidfVectorizer(ngram_range=(1,2))#Путем проб, ошибок и перебора, остановился на\n",
    "X_tf=tf.fit_transform(X)                                     #линейном svm под tfidf-ом\n",
    "tes=tf.transform(test.NAME)\n",
    "print(cross_validation.cross_val_score(sm,X_tf,y,cv=10).mean())"
   ]
  },
  {
   "cell_type": "code",
   "execution_count": 100,
   "metadata": {
    "scrolled": true
   },
   "outputs": [
    {
     "data": {
      "text/plain": [
       "LinearSVC(C=1.0, class_weight=None, dual=True, fit_intercept=True,\n",
       "     intercept_scaling=1, loss='squared_hinge', max_iter=1000,\n",
       "     multi_class='ovr', penalty='l2', random_state=None, tol=0.0001,\n",
       "     verbose=0)"
      ]
     },
     "execution_count": 100,
     "metadata": {},
     "output_type": "execute_result"
    }
   ],
   "source": [
    "sm.fit(X_tf1,y1)#первые сносные ответы"
   ]
  },
  {
   "cell_type": "code",
   "execution_count": 101,
   "metadata": {
    "collapsed": true
   },
   "outputs": [],
   "source": [
    "y_pred=sm.predict(tes1)\n",
    "\n",
    "df_sub = pd.DataFrame({ 'GROUP_ID':y_pred })\n",
    "\n",
    "df_sub.to_csv('./sub_new1.csv')"
   ]
  },
  {
   "cell_type": "code",
   "execution_count": 15,
   "metadata": {
    "scrolled": true
   },
   "outputs": [
    {
     "data": {
      "text/html": [
       "<div>\n",
       "<style>\n",
       "    .dataframe thead tr:only-child th {\n",
       "        text-align: right;\n",
       "    }\n",
       "\n",
       "    .dataframe thead th {\n",
       "        text-align: left;\n",
       "    }\n",
       "\n",
       "    .dataframe tbody tr th {\n",
       "        vertical-align: top;\n",
       "    }\n",
       "</style>\n",
       "<table border=\"1\" class=\"dataframe\">\n",
       "  <thead>\n",
       "    <tr style=\"text-align: right;\">\n",
       "      <th></th>\n",
       "      <th>id</th>\n",
       "      <th>GROUP_ID</th>\n",
       "    </tr>\n",
       "  </thead>\n",
       "  <tbody>\n",
       "    <tr>\n",
       "      <th>0</th>\n",
       "      <td>0</td>\n",
       "      <td>35</td>\n",
       "    </tr>\n",
       "    <tr>\n",
       "      <th>1</th>\n",
       "      <td>1</td>\n",
       "      <td>6</td>\n",
       "    </tr>\n",
       "    <tr>\n",
       "      <th>2</th>\n",
       "      <td>2</td>\n",
       "      <td>9</td>\n",
       "    </tr>\n",
       "    <tr>\n",
       "      <th>3</th>\n",
       "      <td>3</td>\n",
       "      <td>26</td>\n",
       "    </tr>\n",
       "    <tr>\n",
       "      <th>4</th>\n",
       "      <td>4</td>\n",
       "      <td>24</td>\n",
       "    </tr>\n",
       "  </tbody>\n",
       "</table>\n",
       "</div>"
      ],
      "text/plain": [
       "   id  GROUP_ID\n",
       "0   0        35\n",
       "1   1         6\n",
       "2   2         9\n",
       "3   3        26\n",
       "4   4        24"
      ]
     },
     "execution_count": 15,
     "metadata": {},
     "output_type": "execute_result"
    }
   ],
   "source": [
    "df_sub.head()"
   ]
  },
  {
   "cell_type": "code",
   "execution_count": 109,
   "metadata": {
    "collapsed": true
   },
   "outputs": [],
   "source": [
    "sm.fit(X_tf1,y1)\n",
    "y_pred=sm.predict(tes1)\n",
    "df_sub = pd.DataFrame({ 'id': test.id })\n",
    "df_sub.loc[:,'GROUP_ID']=y_pred\n",
    "df_sub.to_csv('./sub.csv', index=False,decimal=\",\")"
   ]
  },
  {
   "cell_type": "code",
   "execution_count": 47,
   "metadata": {
    "collapsed": true
   },
   "outputs": [],
   "source": [
    "from gensim.models import KeyedVectors\n",
    "\n",
    "# думал использовать word2vec, но в корпусе что я нашел небыло собственных имен(Рижское и тд.)\n",
    "# а учить свой, я пока не умею\n",
    "modelvshe = KeyedVectors.load_word2vec_format('/home/stas/Notebooks/evotor/rus.bin', binary=True)"
   ]
  },
  {
   "cell_type": "code",
   "execution_count": 84,
   "metadata": {},
   "outputs": [
    {
     "data": {
      "text/plain": [
       "300"
      ]
     },
     "execution_count": 84,
     "metadata": {},
     "output_type": "execute_result"
    }
   ],
   "source": [
    "len(modelvshe.word_vec(\"пиво\"))"
   ]
  },
  {
   "cell_type": "code",
   "execution_count": 86,
   "metadata": {
    "scrolled": false
   },
   "outputs": [
    {
     "ename": "KeyError",
     "evalue": "\"word 'рижское' not in vocabulary\"",
     "output_type": "error",
     "traceback": [
      "\u001b[0;31m---------------------------------------------------------------------------\u001b[0m",
      "\u001b[0;31mKeyError\u001b[0m                                  Traceback (most recent call last)",
      "\u001b[0;32m<timed exec>\u001b[0m in \u001b[0;36m<module>\u001b[0;34m()\u001b[0m\n",
      "\u001b[0;32m/usr/local/lib/python3.5/dist-packages/gensim/models/keyedvectors.py\u001b[0m in \u001b[0;36mword_vec\u001b[0;34m(self, word, use_norm)\u001b[0m\n\u001b[1;32m    277\u001b[0m                 \u001b[0;32mreturn\u001b[0m \u001b[0mself\u001b[0m\u001b[0;34m.\u001b[0m\u001b[0msyn0\u001b[0m\u001b[0;34m[\u001b[0m\u001b[0mself\u001b[0m\u001b[0;34m.\u001b[0m\u001b[0mvocab\u001b[0m\u001b[0;34m[\u001b[0m\u001b[0mword\u001b[0m\u001b[0;34m]\u001b[0m\u001b[0;34m.\u001b[0m\u001b[0mindex\u001b[0m\u001b[0;34m]\u001b[0m\u001b[0;34m\u001b[0m\u001b[0m\n\u001b[1;32m    278\u001b[0m         \u001b[0;32melse\u001b[0m\u001b[0;34m:\u001b[0m\u001b[0;34m\u001b[0m\u001b[0m\n\u001b[0;32m--> 279\u001b[0;31m             \u001b[0;32mraise\u001b[0m \u001b[0mKeyError\u001b[0m\u001b[0;34m(\u001b[0m\u001b[0;34m\"word '%s' not in vocabulary\"\u001b[0m \u001b[0;34m%\u001b[0m \u001b[0mword\u001b[0m\u001b[0;34m)\u001b[0m\u001b[0;34m\u001b[0m\u001b[0m\n\u001b[0m\u001b[1;32m    280\u001b[0m \u001b[0;34m\u001b[0m\u001b[0m\n\u001b[1;32m    281\u001b[0m     \u001b[0;32mdef\u001b[0m \u001b[0mmost_similar\u001b[0m\u001b[0;34m(\u001b[0m\u001b[0mself\u001b[0m\u001b[0;34m,\u001b[0m \u001b[0mpositive\u001b[0m\u001b[0;34m=\u001b[0m\u001b[0;34m[\u001b[0m\u001b[0;34m]\u001b[0m\u001b[0;34m,\u001b[0m \u001b[0mnegative\u001b[0m\u001b[0;34m=\u001b[0m\u001b[0;34m[\u001b[0m\u001b[0;34m]\u001b[0m\u001b[0;34m,\u001b[0m \u001b[0mtopn\u001b[0m\u001b[0;34m=\u001b[0m\u001b[0;36m10\u001b[0m\u001b[0;34m,\u001b[0m \u001b[0mrestrict_vocab\u001b[0m\u001b[0;34m=\u001b[0m\u001b[0;32mNone\u001b[0m\u001b[0;34m,\u001b[0m \u001b[0mindexer\u001b[0m\u001b[0;34m=\u001b[0m\u001b[0;32mNone\u001b[0m\u001b[0;34m)\u001b[0m\u001b[0;34m:\u001b[0m\u001b[0;34m\u001b[0m\u001b[0m\n",
      "\u001b[0;31mKeyError\u001b[0m: \"word 'рижское' not in vocabulary\""
     ]
    }
   ],
   "source": [
    "%%time\n",
    "g=[]\n",
    "for i in q:\n",
    "    z=np.zeros(300)\n",
    "    for j in i:\n",
    "        z+=modelvshe.word_vec(j.lower())\n",
    "    g.append(z)\n",
    "        "
   ]
  },
  {
   "cell_type": "code",
   "execution_count": 5,
   "metadata": {
    "collapsed": true
   },
   "outputs": [],
   "source": [
    "def svemer(tol,C,inte):\n",
    "    ester=svm.LinearSVC(intercept_scaling=inte,tol=tol,C=C)#перевел кроссвал в функцию, дабы оптимизировать баесом\n",
    "    \n",
    "    tf=feature_extraction.text.TfidfVectorizer(sublinear_tf=True)\n",
    "    X_es=tf.fit_transform(X1)\n",
    "    \n",
    "    return cross_validation.cross_val_score(ester,X_es,y1,cv=5,n_jobs=5).mean()"
   ]
  },
  {
   "cell_type": "code",
   "execution_count": 6,
   "metadata": {
    "collapsed": true
   },
   "outputs": [],
   "source": [
    "gp_params = {\"alpha\": 1e-5}"
   ]
  },
  {
   "cell_type": "code",
   "execution_count": 7,
   "metadata": {
    "collapsed": true
   },
   "outputs": [],
   "source": [
    "svcBO = BayesianOptimization(svemer,{'C': (0.3, 1.8), \"tol\":(0.0000001,0.1),\"inte\":(0.01,100)})\n",
    "svcBO.explore({'C': [0.95,1.05], \"tol\":[0.00005,0.0005],'inte':[0.1,10]})"
   ]
  },
  {
   "cell_type": "code",
   "execution_count": 8,
   "metadata": {
    "scrolled": true
   },
   "outputs": [
    {
     "name": "stdout",
     "output_type": "stream",
     "text": [
      "\u001b[31mInitialization\u001b[0m\n",
      "\u001b[94m-----------------------------------------------------------------\u001b[0m\n",
      " Step |   Time |      Value |         C |      inte |       tol | \n",
      "    1 | 00m07s | \u001b[35m   0.93784\u001b[0m | \u001b[32m   0.9500\u001b[0m | \u001b[32m   0.1000\u001b[0m | \u001b[32m   0.0001\u001b[0m | \n",
      "    2 | 03m54s | \u001b[35m   0.93797\u001b[0m | \u001b[32m   1.0500\u001b[0m | \u001b[32m  10.0000\u001b[0m | \u001b[32m   0.0005\u001b[0m | \n",
      "    3 | 09m22s |    0.90659 |    1.2484 |   67.5554 |    0.0396 | \n",
      "    4 | 09m20s |    0.86978 |    0.9819 |   70.2946 |    0.0535 | \n",
      "    5 | 09m22s |    0.86526 |    0.3309 |   98.7534 |    0.0126 | \n",
      "    6 | 09m22s |    0.86483 |    0.3129 |   78.0204 |    0.0584 | \n",
      "    7 | 05m06s | \u001b[35m   0.93811\u001b[0m | \u001b[32m   1.6747\u001b[0m | \u001b[32m  11.5125\u001b[0m | \u001b[32m   0.0107\u001b[0m | \n",
      "\u001b[31mBayesian Optimization\u001b[0m\n",
      "\u001b[94m-----------------------------------------------------------------\u001b[0m\n",
      " Step |   Time |      Value |         C |      inte |       tol | \n",
      "    8 | 09m18s |    0.92968 |    0.3000 |   40.8711 |    0.0000 | \n",
      "    9 | 09m27s |    0.89012 |    1.8000 |   53.6870 |    0.1000 | \n",
      "   10 | 08m13s |    0.93163 |    0.3000 |   26.1430 |    0.0000 | \n",
      "   11 | 08m47s |    0.93473 |    1.8000 |   33.6145 |    0.1000 | \n",
      "   12 | 05m10s |    0.93194 |    0.3079 |   17.3399 |    0.0848 | \n",
      "   13 | 09m32s |    0.79493 |    1.8000 |   89.0701 |    0.0136 | \n",
      "   14 | 09m25s |    0.86768 |    0.3000 |   61.3234 |    0.0000 | \n",
      "   15 | 01m15s |    0.93804 |    1.8000 |    4.6215 |    0.1000 | \n",
      "   16 | 08m07s |    0.93537 |    1.7996 |   21.9281 |    0.0152 | \n",
      "   17 | 09m07s |    0.92799 |    1.8000 |   44.7545 |    0.1000 | \n",
      "   18 | 09m06s |    0.92695 |    1.7944 |   38.5354 |    0.0029 | \n",
      "   19 | 00m30s |    0.93169 |    0.3013 |    3.5791 |    0.0501 | \n",
      "   20 | 08m28s |    0.93641 |    1.8000 |   29.1059 |    0.1000 | \n",
      "   21 | 08m42s |    0.93149 |    0.3013 |   31.3424 |    0.0123 | \n",
      "   22 | 07m08s | \u001b[35m   0.93840\u001b[0m | \u001b[32m   1.7971\u001b[0m | \u001b[32m  15.6865\u001b[0m | \u001b[32m   0.0975\u001b[0m | \n",
      "   23 | 03m11s |    0.93804 |    1.8000 |    7.7367 |    0.0927 | \n",
      "   24 | 00m25s |    0.93808 |    1.7976 |    1.4307 |    0.0988 | \n",
      "   25 | 03m27s |    0.93237 |    0.3272 |   13.5013 |    0.0981 | \n",
      "   26 | 08m01s |    0.93763 |    1.7999 |   18.8531 |    0.0940 | \n",
      "   27 | 08m35s |    0.92964 |    1.7989 |   25.0750 |    0.0846 | \n",
      "   28 | 00m32s |    0.93811 |    1.8000 |    0.0100 |    0.0000 | \n",
      "   29 | 09m35s |    0.91506 |    0.3000 |   47.1576 |    0.0000 | \n",
      "   30 | 09m11s |    0.92923 |    0.3105 |   35.6660 |    0.1000 | \n",
      "   31 | 07m31s |    0.93174 |    0.3053 |   21.2868 |    0.0990 | \n",
      "   32 | 05m04s |    0.93804 |    1.7829 |    9.8039 |    0.0945 | \n",
      "   33 | 06m45s |    0.93808 |    1.7916 |   13.5339 |    0.0028 | \n",
      "   34 | 01m28s |    0.93167 |    0.3003 |    7.8689 |    0.0959 | \n",
      "   35 | 07m53s |    0.93776 |    1.7837 |   17.2498 |    0.0012 | \n",
      "   36 | 01m08s |    0.93806 |    1.7906 |    3.1090 |    0.0048 | \n",
      "   37 | 02m51s |    0.93806 |    1.7775 |    6.1453 |    0.0085 | \n",
      "   38 | 09m00s |    0.93176 |    1.7945 |   31.3813 |    0.0009 | \n",
      "   39 | 08m57s |    0.93154 |    0.3190 |   28.8280 |    0.0956 | \n",
      "   40 | 08m18s |    0.93829 |    1.7805 |   20.4110 |    0.0022 | \n",
      "   41 | 08m54s |    0.93554 |    1.7248 |   27.6322 |    0.0017 | \n",
      "   42 | 04m39s |    0.93806 |    1.7977 |    9.0892 |    0.0002 | \n",
      "   43 | 07m02s |    0.93820 |    1.7913 |   14.8244 |    0.0165 | \n",
      "   44 | 05m10s |    0.93804 |    1.7864 |   10.5166 |    0.0020 | \n",
      "   45 | 00m34s |    0.93509 |    0.3510 |    0.0206 |    0.0769 | \n",
      "   46 | 09m17s |    0.92639 |    1.7998 |   42.1257 |    0.0220 | \n",
      "   47 | 03m14s |    0.93231 |    0.3238 |   11.0157 |    0.0128 | \n",
      "   48 | 06m15s |    0.93799 |    1.7913 |   12.4289 |    0.0006 | \n",
      "   49 | 00m36s |    0.93768 |    0.9585 |    1.2420 |    0.0007 | \n",
      "   50 | 00m35s |    0.93806 |    1.7919 |    0.9468 |    0.0006 | \n",
      "   51 | 00m44s |    0.93810 |    1.7723 |    2.0602 |    0.0093 | \n",
      "   52 | 07m27s |    0.93770 |    1.7739 |   16.2815 |    0.0035 | \n",
      "   53 | 08m01s |    0.93756 |    1.7718 |   19.8758 |    0.0955 | \n",
      "   54 | 03m28s |    0.93808 |    1.7891 |    7.1245 |    0.0043 | \n",
      "   55 | 00m32s |    0.93817 |    1.4501 |    0.4218 |    0.0972 | \n",
      "   56 | 08m05s |    0.93749 |    1.7901 |   20.9088 |    0.0957 | \n",
      "   57 | 02m30s |    0.93810 |    1.7632 |    5.3397 |    0.0012 | \n",
      "   58 | 01m29s |    0.93804 |    1.7962 |    4.0086 |    0.0209 | \n",
      "   59 | 06m48s |    0.93811 |    1.7877 |   14.0421 |    0.1000 | \n",
      "   60 | 07m48s |    0.93709 |    1.7529 |   18.0812 |    0.0031 | \n",
      "   61 | 03m42s |    0.93802 |    1.2286 |    9.2171 |    0.0990 | \n",
      "   62 | 04m10s |    0.93806 |    1.7727 |    8.3917 |    0.0096 | \n",
      "   63 | 05m50s |    0.93820 |    1.7950 |   11.2015 |    0.0842 | \n",
      "   64 | 07m49s |    0.93690 |    1.7951 |   15.5013 |    0.0003 | \n",
      "   65 | 06m20s |    0.93811 |    1.7632 |   13.0612 |    0.0937 | \n",
      "   66 | 07m37s |    0.93799 |    1.7598 |   16.9908 |    0.0999 | \n",
      "   67 | 09m10s |    0.93443 |    1.7802 |   35.0805 |    0.0118 | \n",
      "   68 | 06m47s |    0.93808 |    1.3301 |   14.7996 |    0.0995 | \n",
      "   69 | 04m58s |    0.93802 |    1.3476 |   10.5805 |    0.0892 | \n",
      "   70 | 06m01s |    0.93818 |    1.7880 |   11.8596 |    0.0926 | \n",
      "   71 | 07m16s |    0.93808 |    1.3361 |   16.0140 |    0.0943 | \n",
      "   72 | 00m47s |    0.93806 |    1.2312 |    2.1525 |    0.0968 | \n",
      "   73 | 00m44s |    0.93811 |    1.4167 |    1.7122 |    0.0020 | \n",
      "   74 | 04m39s |    0.93811 |    1.4103 |    9.6722 |    0.0046 | \n",
      "   75 | 06m59s |    0.93835 |    1.7878 |   14.6092 |    0.0891 | \n",
      "   76 | 07m28s |    0.93815 |    1.7806 |   16.1787 |    0.0977 | \n",
      "   77 | 09m31s |    0.91708 |    0.3017 |   43.5304 |    0.0007 | \n",
      "   78 | 09m26s |    0.91600 |    1.7964 |   48.0554 |    0.0023 | \n",
      "   79 | 02m09s |    0.93808 |    1.7946 |    5.6384 |    0.0909 | \n",
      "   80 | 00m53s |    0.93808 |    1.7769 |    2.5792 |    0.0854 | \n",
      "   81 | 02m54s |    0.93804 |    1.7382 |    6.7289 |    0.0963 | \n",
      "   82 | 02m11s |    0.93799 |    1.2506 |    5.7442 |    0.0312 | \n",
      "   83 | 01m39s |    0.93801 |    1.3221 |    4.8428 |    0.0921 | \n",
      "   84 | 00m36s | \u001b[35m   0.93867\u001b[0m | \u001b[32m   1.3489\u001b[0m | \u001b[32m   0.0283\u001b[0m | \u001b[32m   0.0976\u001b[0m | \n",
      "   85 | 01m07s |    0.93811 |    1.4663 |    3.4404 |    0.0948 | \n",
      "   86 | 07m06s |    0.93811 |    1.6813 |   14.8517 |    0.0929 | \n",
      "   87 | 06m26s |    0.93673 |    0.6449 |   15.3007 |    0.0977 | \n",
      "   88 | 00m37s |    0.93804 |    1.3758 |    0.9502 |    0.0873 | \n",
      "   89 | 01m03s |    0.93802 |    1.4953 |    2.8230 |    0.0241 | \n",
      "   90 | 02m57s |    0.93799 |    1.3235 |    7.2078 |    0.0493 | \n",
      "   91 | 02m23s |    0.93801 |    1.3131 |    6.3587 |    0.0704 | \n",
      "   92 | 03m36s |    0.93808 |    1.3441 |    8.5278 |    0.0937 | \n",
      "   93 | 08m13s |    0.93761 |    1.2519 |   20.3026 |    0.0018 | \n",
      "   94 | 00m47s |    0.93854 |    1.3990 |    0.0349 |    0.0097 | \n",
      "   95 | 04m15s |    0.93810 |    1.7241 |    8.8787 |    0.0988 | \n",
      "   96 | 08m16s |    0.93809 |    1.2083 |   19.2703 |    0.0084 | \n",
      "   97 | 00m44s |    0.93851 |    1.3353 |    0.0174 |    0.0509 | \n",
      "   98 | 00m43s |    0.93810 |    1.3254 |    0.1446 |    0.0355 | \n",
      "   99 | 09m16s |    0.93133 |    0.3562 |   33.5844 |    0.0014 | \n",
      "  100 | 05m07s |    0.93804 |    1.5361 |   10.0693 |    0.0726 | \n",
      "  101 | 02m10s |    0.93810 |    1.5957 |    5.2976 |    0.0360 | \n",
      "  102 | 00m53s |    0.93810 |    1.4576 |    1.6325 |    0.0946 | \n",
      "  103 | 07m14s |    0.93820 |    1.6871 |   14.6733 |    0.0517 | \n",
      "  104 | 00m43s |    0.93827 |    1.4475 |    0.0436 |    0.0848 | \n",
      "  105 | 10m04s |    0.72356 |    1.7889 |   99.9977 |    0.0989 | \n",
      "  106 | 10m04s |    0.86504 |    0.3045 |   94.1786 |    0.0455 | \n",
      "  107 | 10m03s |    0.89254 |    0.3011 |   66.6593 |    0.0725 | \n",
      "  108 | 09m59s |    0.91665 |    1.7966 |   64.8064 |    0.0949 | \n",
      "  109 | 08m24s |    0.93219 |    0.3283 |   23.6608 |    0.0183 | \n",
      "  110 | 09m30s |    0.92847 |    0.3009 |   38.5769 |    0.0135 | \n",
      "  111 | 07m17s |    0.93206 |    0.3210 |   19.4053 |    0.0863 | \n",
      "  112 | 08m30s |    0.93752 |    1.7076 |   19.3752 |    0.0088 | \n",
      "  113 | 01m51s |    0.93801 |    1.3407 |    4.2527 |    0.0071 | \n",
      "  114 | 06m15s |    0.93810 |    1.1379 |   12.1339 |    0.0993 | \n",
      "  115 | 06m55s |    0.93808 |    1.3346 |   12.6779 |    0.0813 | \n"
     ]
    },
    {
     "name": "stdout",
     "output_type": "stream",
     "text": [
      "  116 | 09m14s |    0.93818 |    1.3835 |   18.7123 |    0.0111 | \n"
     ]
    },
    {
     "ename": "KeyboardInterrupt",
     "evalue": "",
     "output_type": "error",
     "traceback": [
      "\u001b[0;31m---------------------------------------------------------------------------\u001b[0m",
      "\u001b[0;31mKeyboardInterrupt\u001b[0m                         Traceback (most recent call last)",
      "\u001b[0;32m<timed eval>\u001b[0m in \u001b[0;36m<module>\u001b[0;34m()\u001b[0m\n",
      "\u001b[0;32m/usr/local/lib/python3.5/dist-packages/bayes_opt/bayesian_optimization.py\u001b[0m in \u001b[0;36mmaximize\u001b[0;34m(self, init_points, n_iter, acq, kappa, xi, **gp_params)\u001b[0m\n\u001b[1;32m    301\u001b[0m                             \u001b[0mgp\u001b[0m\u001b[0;34m=\u001b[0m\u001b[0mself\u001b[0m\u001b[0;34m.\u001b[0m\u001b[0mgp\u001b[0m\u001b[0;34m,\u001b[0m\u001b[0;34m\u001b[0m\u001b[0m\n\u001b[1;32m    302\u001b[0m                             \u001b[0my_max\u001b[0m\u001b[0;34m=\u001b[0m\u001b[0my_max\u001b[0m\u001b[0;34m,\u001b[0m\u001b[0;34m\u001b[0m\u001b[0m\n\u001b[0;32m--> 303\u001b[0;31m                             bounds=self.bounds)\n\u001b[0m\u001b[1;32m    304\u001b[0m \u001b[0;34m\u001b[0m\u001b[0m\n\u001b[1;32m    305\u001b[0m             \u001b[0;31m# Print stuff\u001b[0m\u001b[0;34m\u001b[0m\u001b[0;34m\u001b[0m\u001b[0m\n",
      "\u001b[0;32m/usr/local/lib/python3.5/dist-packages/bayes_opt/helpers.py\u001b[0m in \u001b[0;36macq_max\u001b[0;34m(ac, gp, y_max, bounds)\u001b[0m\n\u001b[1;32m     50\u001b[0m                        \u001b[0mx_try\u001b[0m\u001b[0;34m.\u001b[0m\u001b[0mreshape\u001b[0m\u001b[0;34m(\u001b[0m\u001b[0;36m1\u001b[0m\u001b[0;34m,\u001b[0m \u001b[0;34m-\u001b[0m\u001b[0;36m1\u001b[0m\u001b[0;34m)\u001b[0m\u001b[0;34m,\u001b[0m\u001b[0;34m\u001b[0m\u001b[0m\n\u001b[1;32m     51\u001b[0m                        \u001b[0mbounds\u001b[0m\u001b[0;34m=\u001b[0m\u001b[0mbounds\u001b[0m\u001b[0;34m,\u001b[0m\u001b[0;34m\u001b[0m\u001b[0m\n\u001b[0;32m---> 52\u001b[0;31m                        method=\"L-BFGS-B\")\n\u001b[0m\u001b[1;32m     53\u001b[0m \u001b[0;34m\u001b[0m\u001b[0m\n\u001b[1;32m     54\u001b[0m         \u001b[0;31m# Store it if better than previous minimum(maximum).\u001b[0m\u001b[0;34m\u001b[0m\u001b[0;34m\u001b[0m\u001b[0m\n",
      "\u001b[0;32m/usr/local/lib/python3.5/dist-packages/scipy/optimize/_minimize.py\u001b[0m in \u001b[0;36mminimize\u001b[0;34m(fun, x0, args, method, jac, hess, hessp, bounds, constraints, tol, callback, options)\u001b[0m\n\u001b[1;32m    448\u001b[0m     \u001b[0;32melif\u001b[0m \u001b[0mmeth\u001b[0m \u001b[0;34m==\u001b[0m \u001b[0;34m'l-bfgs-b'\u001b[0m\u001b[0;34m:\u001b[0m\u001b[0;34m\u001b[0m\u001b[0m\n\u001b[1;32m    449\u001b[0m         return _minimize_lbfgsb(fun, x0, args, jac, bounds,\n\u001b[0;32m--> 450\u001b[0;31m                                 callback=callback, **options)\n\u001b[0m\u001b[1;32m    451\u001b[0m     \u001b[0;32melif\u001b[0m \u001b[0mmeth\u001b[0m \u001b[0;34m==\u001b[0m \u001b[0;34m'tnc'\u001b[0m\u001b[0;34m:\u001b[0m\u001b[0;34m\u001b[0m\u001b[0m\n\u001b[1;32m    452\u001b[0m         return _minimize_tnc(fun, x0, args, jac, bounds, callback=callback,\n",
      "\u001b[0;32m/usr/local/lib/python3.5/dist-packages/scipy/optimize/lbfgsb.py\u001b[0m in \u001b[0;36m_minimize_lbfgsb\u001b[0;34m(fun, x0, args, jac, bounds, disp, maxcor, ftol, gtol, eps, maxfun, maxiter, iprint, callback, maxls, **unknown_options)\u001b[0m\n\u001b[1;32m    326\u001b[0m             \u001b[0;31m# until the completion of the current minimization iteration.\u001b[0m\u001b[0;34m\u001b[0m\u001b[0;34m\u001b[0m\u001b[0m\n\u001b[1;32m    327\u001b[0m             \u001b[0;31m# Overwrite f and g:\u001b[0m\u001b[0;34m\u001b[0m\u001b[0;34m\u001b[0m\u001b[0m\n\u001b[0;32m--> 328\u001b[0;31m             \u001b[0mf\u001b[0m\u001b[0;34m,\u001b[0m \u001b[0mg\u001b[0m \u001b[0;34m=\u001b[0m \u001b[0mfunc_and_grad\u001b[0m\u001b[0;34m(\u001b[0m\u001b[0mx\u001b[0m\u001b[0;34m)\u001b[0m\u001b[0;34m\u001b[0m\u001b[0m\n\u001b[0m\u001b[1;32m    329\u001b[0m         \u001b[0;32melif\u001b[0m \u001b[0mtask_str\u001b[0m\u001b[0;34m.\u001b[0m\u001b[0mstartswith\u001b[0m\u001b[0;34m(\u001b[0m\u001b[0;34mb'NEW_X'\u001b[0m\u001b[0;34m)\u001b[0m\u001b[0;34m:\u001b[0m\u001b[0;34m\u001b[0m\u001b[0m\n\u001b[1;32m    330\u001b[0m             \u001b[0;31m# new iteration\u001b[0m\u001b[0;34m\u001b[0m\u001b[0;34m\u001b[0m\u001b[0m\n",
      "\u001b[0;32m/usr/local/lib/python3.5/dist-packages/scipy/optimize/lbfgsb.py\u001b[0m in \u001b[0;36mfunc_and_grad\u001b[0;34m(x)\u001b[0m\n\u001b[1;32m    272\u001b[0m         \u001b[0;32mdef\u001b[0m \u001b[0mfunc_and_grad\u001b[0m\u001b[0;34m(\u001b[0m\u001b[0mx\u001b[0m\u001b[0;34m)\u001b[0m\u001b[0;34m:\u001b[0m\u001b[0;34m\u001b[0m\u001b[0m\n\u001b[1;32m    273\u001b[0m             \u001b[0mf\u001b[0m \u001b[0;34m=\u001b[0m \u001b[0mfun\u001b[0m\u001b[0;34m(\u001b[0m\u001b[0mx\u001b[0m\u001b[0;34m,\u001b[0m \u001b[0;34m*\u001b[0m\u001b[0margs\u001b[0m\u001b[0;34m)\u001b[0m\u001b[0;34m\u001b[0m\u001b[0m\n\u001b[0;32m--> 274\u001b[0;31m             \u001b[0mg\u001b[0m \u001b[0;34m=\u001b[0m \u001b[0m_approx_fprime_helper\u001b[0m\u001b[0;34m(\u001b[0m\u001b[0mx\u001b[0m\u001b[0;34m,\u001b[0m \u001b[0mfun\u001b[0m\u001b[0;34m,\u001b[0m \u001b[0mepsilon\u001b[0m\u001b[0;34m,\u001b[0m \u001b[0margs\u001b[0m\u001b[0;34m=\u001b[0m\u001b[0margs\u001b[0m\u001b[0;34m,\u001b[0m \u001b[0mf0\u001b[0m\u001b[0;34m=\u001b[0m\u001b[0mf\u001b[0m\u001b[0;34m)\u001b[0m\u001b[0;34m\u001b[0m\u001b[0m\n\u001b[0m\u001b[1;32m    275\u001b[0m             \u001b[0;32mreturn\u001b[0m \u001b[0mf\u001b[0m\u001b[0;34m,\u001b[0m \u001b[0mg\u001b[0m\u001b[0;34m\u001b[0m\u001b[0m\n\u001b[1;32m    276\u001b[0m     \u001b[0;32melse\u001b[0m\u001b[0;34m:\u001b[0m\u001b[0;34m\u001b[0m\u001b[0m\n",
      "\u001b[0;32m/usr/local/lib/python3.5/dist-packages/scipy/optimize/optimize.py\u001b[0m in \u001b[0;36m_approx_fprime_helper\u001b[0;34m(xk, f, epsilon, args, f0)\u001b[0m\n\u001b[1;32m    626\u001b[0m         \u001b[0mei\u001b[0m\u001b[0;34m[\u001b[0m\u001b[0mk\u001b[0m\u001b[0;34m]\u001b[0m \u001b[0;34m=\u001b[0m \u001b[0;36m1.0\u001b[0m\u001b[0;34m\u001b[0m\u001b[0m\n\u001b[1;32m    627\u001b[0m         \u001b[0md\u001b[0m \u001b[0;34m=\u001b[0m \u001b[0mepsilon\u001b[0m \u001b[0;34m*\u001b[0m \u001b[0mei\u001b[0m\u001b[0;34m\u001b[0m\u001b[0m\n\u001b[0;32m--> 628\u001b[0;31m         \u001b[0mgrad\u001b[0m\u001b[0;34m[\u001b[0m\u001b[0mk\u001b[0m\u001b[0;34m]\u001b[0m \u001b[0;34m=\u001b[0m \u001b[0;34m(\u001b[0m\u001b[0mf\u001b[0m\u001b[0;34m(\u001b[0m\u001b[0;34m*\u001b[0m\u001b[0;34m(\u001b[0m\u001b[0;34m(\u001b[0m\u001b[0mxk\u001b[0m \u001b[0;34m+\u001b[0m \u001b[0md\u001b[0m\u001b[0;34m,\u001b[0m\u001b[0;34m)\u001b[0m \u001b[0;34m+\u001b[0m \u001b[0margs\u001b[0m\u001b[0;34m)\u001b[0m\u001b[0;34m)\u001b[0m \u001b[0;34m-\u001b[0m \u001b[0mf0\u001b[0m\u001b[0;34m)\u001b[0m \u001b[0;34m/\u001b[0m \u001b[0md\u001b[0m\u001b[0;34m[\u001b[0m\u001b[0mk\u001b[0m\u001b[0;34m]\u001b[0m\u001b[0;34m\u001b[0m\u001b[0m\n\u001b[0m\u001b[1;32m    629\u001b[0m         \u001b[0mei\u001b[0m\u001b[0;34m[\u001b[0m\u001b[0mk\u001b[0m\u001b[0;34m]\u001b[0m \u001b[0;34m=\u001b[0m \u001b[0;36m0.0\u001b[0m\u001b[0;34m\u001b[0m\u001b[0m\n\u001b[1;32m    630\u001b[0m     \u001b[0;32mreturn\u001b[0m \u001b[0mgrad\u001b[0m\u001b[0;34m\u001b[0m\u001b[0m\n",
      "\u001b[0;32m/usr/local/lib/python3.5/dist-packages/scipy/optimize/optimize.py\u001b[0m in \u001b[0;36mfunction_wrapper\u001b[0;34m(*wrapper_args)\u001b[0m\n\u001b[1;32m    290\u001b[0m     \u001b[0;32mdef\u001b[0m \u001b[0mfunction_wrapper\u001b[0m\u001b[0;34m(\u001b[0m\u001b[0;34m*\u001b[0m\u001b[0mwrapper_args\u001b[0m\u001b[0;34m)\u001b[0m\u001b[0;34m:\u001b[0m\u001b[0;34m\u001b[0m\u001b[0m\n\u001b[1;32m    291\u001b[0m         \u001b[0mncalls\u001b[0m\u001b[0;34m[\u001b[0m\u001b[0;36m0\u001b[0m\u001b[0;34m]\u001b[0m \u001b[0;34m+=\u001b[0m \u001b[0;36m1\u001b[0m\u001b[0;34m\u001b[0m\u001b[0m\n\u001b[0;32m--> 292\u001b[0;31m         \u001b[0;32mreturn\u001b[0m \u001b[0mfunction\u001b[0m\u001b[0;34m(\u001b[0m\u001b[0;34m*\u001b[0m\u001b[0;34m(\u001b[0m\u001b[0mwrapper_args\u001b[0m \u001b[0;34m+\u001b[0m \u001b[0margs\u001b[0m\u001b[0;34m)\u001b[0m\u001b[0;34m)\u001b[0m\u001b[0;34m\u001b[0m\u001b[0m\n\u001b[0m\u001b[1;32m    293\u001b[0m \u001b[0;34m\u001b[0m\u001b[0m\n\u001b[1;32m    294\u001b[0m     \u001b[0;32mreturn\u001b[0m \u001b[0mncalls\u001b[0m\u001b[0;34m,\u001b[0m \u001b[0mfunction_wrapper\u001b[0m\u001b[0;34m\u001b[0m\u001b[0m\n",
      "\u001b[0;32m/usr/local/lib/python3.5/dist-packages/bayes_opt/helpers.py\u001b[0m in \u001b[0;36m<lambda>\u001b[0;34m(x)\u001b[0m\n\u001b[1;32m     47\u001b[0m     \u001b[0;32mfor\u001b[0m \u001b[0mx_try\u001b[0m \u001b[0;32min\u001b[0m \u001b[0mx_seeds\u001b[0m\u001b[0;34m:\u001b[0m\u001b[0;34m\u001b[0m\u001b[0m\n\u001b[1;32m     48\u001b[0m         \u001b[0;31m# Find the minimum of minus the acquisition function\u001b[0m\u001b[0;34m\u001b[0m\u001b[0;34m\u001b[0m\u001b[0m\n\u001b[0;32m---> 49\u001b[0;31m         res = minimize(lambda x: -ac(x.reshape(1, -1), gp=gp, y_max=y_max),\n\u001b[0m\u001b[1;32m     50\u001b[0m                        \u001b[0mx_try\u001b[0m\u001b[0;34m.\u001b[0m\u001b[0mreshape\u001b[0m\u001b[0;34m(\u001b[0m\u001b[0;36m1\u001b[0m\u001b[0;34m,\u001b[0m \u001b[0;34m-\u001b[0m\u001b[0;36m1\u001b[0m\u001b[0;34m)\u001b[0m\u001b[0;34m,\u001b[0m\u001b[0;34m\u001b[0m\u001b[0m\n\u001b[1;32m     51\u001b[0m                        \u001b[0mbounds\u001b[0m\u001b[0;34m=\u001b[0m\u001b[0mbounds\u001b[0m\u001b[0;34m,\u001b[0m\u001b[0;34m\u001b[0m\u001b[0m\n",
      "\u001b[0;32m/usr/local/lib/python3.5/dist-packages/bayes_opt/helpers.py\u001b[0m in \u001b[0;36mutility\u001b[0;34m(self, x, gp, y_max)\u001b[0m\n\u001b[1;32m     85\u001b[0m     \u001b[0;32mdef\u001b[0m \u001b[0mutility\u001b[0m\u001b[0;34m(\u001b[0m\u001b[0mself\u001b[0m\u001b[0;34m,\u001b[0m \u001b[0mx\u001b[0m\u001b[0;34m,\u001b[0m \u001b[0mgp\u001b[0m\u001b[0;34m,\u001b[0m \u001b[0my_max\u001b[0m\u001b[0;34m)\u001b[0m\u001b[0;34m:\u001b[0m\u001b[0;34m\u001b[0m\u001b[0m\n\u001b[1;32m     86\u001b[0m         \u001b[0;32mif\u001b[0m \u001b[0mself\u001b[0m\u001b[0;34m.\u001b[0m\u001b[0mkind\u001b[0m \u001b[0;34m==\u001b[0m \u001b[0;34m'ucb'\u001b[0m\u001b[0;34m:\u001b[0m\u001b[0;34m\u001b[0m\u001b[0m\n\u001b[0;32m---> 87\u001b[0;31m             \u001b[0;32mreturn\u001b[0m \u001b[0mself\u001b[0m\u001b[0;34m.\u001b[0m\u001b[0m_ucb\u001b[0m\u001b[0;34m(\u001b[0m\u001b[0mx\u001b[0m\u001b[0;34m,\u001b[0m \u001b[0mgp\u001b[0m\u001b[0;34m,\u001b[0m \u001b[0mself\u001b[0m\u001b[0;34m.\u001b[0m\u001b[0mkappa\u001b[0m\u001b[0;34m)\u001b[0m\u001b[0;34m\u001b[0m\u001b[0m\n\u001b[0m\u001b[1;32m     88\u001b[0m         \u001b[0;32mif\u001b[0m \u001b[0mself\u001b[0m\u001b[0;34m.\u001b[0m\u001b[0mkind\u001b[0m \u001b[0;34m==\u001b[0m \u001b[0;34m'ei'\u001b[0m\u001b[0;34m:\u001b[0m\u001b[0;34m\u001b[0m\u001b[0m\n\u001b[1;32m     89\u001b[0m             \u001b[0;32mreturn\u001b[0m \u001b[0mself\u001b[0m\u001b[0;34m.\u001b[0m\u001b[0m_ei\u001b[0m\u001b[0;34m(\u001b[0m\u001b[0mx\u001b[0m\u001b[0;34m,\u001b[0m \u001b[0mgp\u001b[0m\u001b[0;34m,\u001b[0m \u001b[0my_max\u001b[0m\u001b[0;34m,\u001b[0m \u001b[0mself\u001b[0m\u001b[0;34m.\u001b[0m\u001b[0mxi\u001b[0m\u001b[0;34m)\u001b[0m\u001b[0;34m\u001b[0m\u001b[0m\n",
      "\u001b[0;32m/usr/local/lib/python3.5/dist-packages/bayes_opt/helpers.py\u001b[0m in \u001b[0;36m_ucb\u001b[0;34m(x, gp, kappa)\u001b[0m\n\u001b[1;32m     93\u001b[0m     \u001b[0;34m@\u001b[0m\u001b[0mstaticmethod\u001b[0m\u001b[0;34m\u001b[0m\u001b[0m\n\u001b[1;32m     94\u001b[0m     \u001b[0;32mdef\u001b[0m \u001b[0m_ucb\u001b[0m\u001b[0;34m(\u001b[0m\u001b[0mx\u001b[0m\u001b[0;34m,\u001b[0m \u001b[0mgp\u001b[0m\u001b[0;34m,\u001b[0m \u001b[0mkappa\u001b[0m\u001b[0;34m)\u001b[0m\u001b[0;34m:\u001b[0m\u001b[0;34m\u001b[0m\u001b[0m\n\u001b[0;32m---> 95\u001b[0;31m         \u001b[0mmean\u001b[0m\u001b[0;34m,\u001b[0m \u001b[0mstd\u001b[0m \u001b[0;34m=\u001b[0m \u001b[0mgp\u001b[0m\u001b[0;34m.\u001b[0m\u001b[0mpredict\u001b[0m\u001b[0;34m(\u001b[0m\u001b[0mx\u001b[0m\u001b[0;34m,\u001b[0m \u001b[0mreturn_std\u001b[0m\u001b[0;34m=\u001b[0m\u001b[0;32mTrue\u001b[0m\u001b[0;34m)\u001b[0m\u001b[0;34m\u001b[0m\u001b[0m\n\u001b[0m\u001b[1;32m     96\u001b[0m         \u001b[0;32mreturn\u001b[0m \u001b[0mmean\u001b[0m \u001b[0;34m+\u001b[0m \u001b[0mkappa\u001b[0m \u001b[0;34m*\u001b[0m \u001b[0mstd\u001b[0m\u001b[0;34m\u001b[0m\u001b[0m\n\u001b[1;32m     97\u001b[0m \u001b[0;34m\u001b[0m\u001b[0m\n",
      "\u001b[0;32m/usr/local/lib/python3.5/dist-packages/sklearn/gaussian_process/gpr.py\u001b[0m in \u001b[0;36mpredict\u001b[0;34m(self, X, return_std, return_cov)\u001b[0m\n\u001b[1;32m    296\u001b[0m                 \u001b[0;31m# compute inverse K_inv of K based on its Cholesky\u001b[0m\u001b[0;34m\u001b[0m\u001b[0;34m\u001b[0m\u001b[0m\n\u001b[1;32m    297\u001b[0m                 \u001b[0;31m# decomposition L and its inverse L_inv\u001b[0m\u001b[0;34m\u001b[0m\u001b[0;34m\u001b[0m\u001b[0m\n\u001b[0;32m--> 298\u001b[0;31m                 \u001b[0mL_inv\u001b[0m \u001b[0;34m=\u001b[0m \u001b[0msolve_triangular\u001b[0m\u001b[0;34m(\u001b[0m\u001b[0mself\u001b[0m\u001b[0;34m.\u001b[0m\u001b[0mL_\u001b[0m\u001b[0;34m.\u001b[0m\u001b[0mT\u001b[0m\u001b[0;34m,\u001b[0m \u001b[0mnp\u001b[0m\u001b[0;34m.\u001b[0m\u001b[0meye\u001b[0m\u001b[0;34m(\u001b[0m\u001b[0mself\u001b[0m\u001b[0;34m.\u001b[0m\u001b[0mL_\u001b[0m\u001b[0;34m.\u001b[0m\u001b[0mshape\u001b[0m\u001b[0;34m[\u001b[0m\u001b[0;36m0\u001b[0m\u001b[0;34m]\u001b[0m\u001b[0;34m)\u001b[0m\u001b[0;34m)\u001b[0m\u001b[0;34m\u001b[0m\u001b[0m\n\u001b[0m\u001b[1;32m    299\u001b[0m                 \u001b[0mK_inv\u001b[0m \u001b[0;34m=\u001b[0m \u001b[0mL_inv\u001b[0m\u001b[0;34m.\u001b[0m\u001b[0mdot\u001b[0m\u001b[0;34m(\u001b[0m\u001b[0mL_inv\u001b[0m\u001b[0;34m.\u001b[0m\u001b[0mT\u001b[0m\u001b[0;34m)\u001b[0m\u001b[0;34m\u001b[0m\u001b[0m\n\u001b[1;32m    300\u001b[0m                 \u001b[0;31m# Compute variance of predictive distribution\u001b[0m\u001b[0;34m\u001b[0m\u001b[0;34m\u001b[0m\u001b[0m\n",
      "\u001b[0;32m/usr/local/lib/python3.5/dist-packages/scipy/linalg/basic.py\u001b[0m in \u001b[0;36msolve_triangular\u001b[0;34m(a, b, trans, lower, unit_diagonal, overwrite_b, debug, check_finite)\u001b[0m\n\u001b[1;32m    293\u001b[0m     \u001b[0mtrtrs\u001b[0m\u001b[0;34m,\u001b[0m \u001b[0;34m=\u001b[0m \u001b[0mget_lapack_funcs\u001b[0m\u001b[0;34m(\u001b[0m\u001b[0;34m(\u001b[0m\u001b[0;34m'trtrs'\u001b[0m\u001b[0;34m,\u001b[0m\u001b[0;34m)\u001b[0m\u001b[0;34m,\u001b[0m \u001b[0;34m(\u001b[0m\u001b[0ma1\u001b[0m\u001b[0;34m,\u001b[0m \u001b[0mb1\u001b[0m\u001b[0;34m)\u001b[0m\u001b[0;34m)\u001b[0m\u001b[0;34m\u001b[0m\u001b[0m\n\u001b[1;32m    294\u001b[0m     x, info = trtrs(a1, b1, overwrite_b=overwrite_b, lower=lower,\n\u001b[0;32m--> 295\u001b[0;31m                     trans=trans, unitdiag=unit_diagonal)\n\u001b[0m\u001b[1;32m    296\u001b[0m \u001b[0;34m\u001b[0m\u001b[0m\n\u001b[1;32m    297\u001b[0m     \u001b[0;32mif\u001b[0m \u001b[0minfo\u001b[0m \u001b[0;34m==\u001b[0m \u001b[0;36m0\u001b[0m\u001b[0;34m:\u001b[0m\u001b[0;34m\u001b[0m\u001b[0m\n",
      "\u001b[0;31mKeyboardInterrupt\u001b[0m: "
     ]
    }
   ],
   "source": [
    "%%time\n",
    "\n",
    "svcBO.maximize(n_iter=1000)#спустя 2 дня подсчетов улучшил показатели больще чем на процент"
   ]
  },
  {
   "cell_type": "code",
   "execution_count": 6,
   "metadata": {
    "scrolled": true
   },
   "outputs": [
    {
     "name": "stdout",
     "output_type": "stream",
     "text": [
      "0.93793419447\n",
      "0.935767549483\n",
      "0.933207906154\n"
     ]
    },
    {
     "ename": "KeyboardInterrupt",
     "evalue": "",
     "output_type": "error",
     "traceback": [
      "\u001b[0;31m---------------------------------------------------------------------------\u001b[0m",
      "\u001b[0;31mKeyboardInterrupt\u001b[0m                         Traceback (most recent call last)",
      "\u001b[0;32m<timed exec>\u001b[0m in \u001b[0;36m<module>\u001b[0;34m()\u001b[0m\n",
      "\u001b[0;32m/usr/local/lib/python3.5/dist-packages/sklearn/cross_validation.py\u001b[0m in \u001b[0;36mcross_val_score\u001b[0;34m(estimator, X, y, scoring, cv, n_jobs, verbose, fit_params, pre_dispatch)\u001b[0m\n\u001b[1;32m   1569\u001b[0m                                               \u001b[0mtrain\u001b[0m\u001b[0;34m,\u001b[0m \u001b[0mtest\u001b[0m\u001b[0;34m,\u001b[0m \u001b[0mverbose\u001b[0m\u001b[0;34m,\u001b[0m \u001b[0;32mNone\u001b[0m\u001b[0;34m,\u001b[0m\u001b[0;34m\u001b[0m\u001b[0m\n\u001b[1;32m   1570\u001b[0m                                               fit_params)\n\u001b[0;32m-> 1571\u001b[0;31m                       for train, test in cv)\n\u001b[0m\u001b[1;32m   1572\u001b[0m     \u001b[0;32mreturn\u001b[0m \u001b[0mnp\u001b[0m\u001b[0;34m.\u001b[0m\u001b[0marray\u001b[0m\u001b[0;34m(\u001b[0m\u001b[0mscores\u001b[0m\u001b[0;34m)\u001b[0m\u001b[0;34m[\u001b[0m\u001b[0;34m:\u001b[0m\u001b[0;34m,\u001b[0m \u001b[0;36m0\u001b[0m\u001b[0;34m]\u001b[0m\u001b[0;34m\u001b[0m\u001b[0m\n\u001b[1;32m   1573\u001b[0m \u001b[0;34m\u001b[0m\u001b[0m\n",
      "\u001b[0;32m/usr/local/lib/python3.5/dist-packages/sklearn/externals/joblib/parallel.py\u001b[0m in \u001b[0;36m__call__\u001b[0;34m(self, iterable)\u001b[0m\n\u001b[1;32m    766\u001b[0m                 \u001b[0;31m# consumption.\u001b[0m\u001b[0;34m\u001b[0m\u001b[0;34m\u001b[0m\u001b[0m\n\u001b[1;32m    767\u001b[0m                 \u001b[0mself\u001b[0m\u001b[0;34m.\u001b[0m\u001b[0m_iterating\u001b[0m \u001b[0;34m=\u001b[0m \u001b[0;32mFalse\u001b[0m\u001b[0;34m\u001b[0m\u001b[0m\n\u001b[0;32m--> 768\u001b[0;31m             \u001b[0mself\u001b[0m\u001b[0;34m.\u001b[0m\u001b[0mretrieve\u001b[0m\u001b[0;34m(\u001b[0m\u001b[0;34m)\u001b[0m\u001b[0;34m\u001b[0m\u001b[0m\n\u001b[0m\u001b[1;32m    769\u001b[0m             \u001b[0;31m# Make sure that we get a last message telling us we are done\u001b[0m\u001b[0;34m\u001b[0m\u001b[0;34m\u001b[0m\u001b[0m\n\u001b[1;32m    770\u001b[0m             \u001b[0melapsed_time\u001b[0m \u001b[0;34m=\u001b[0m \u001b[0mtime\u001b[0m\u001b[0;34m.\u001b[0m\u001b[0mtime\u001b[0m\u001b[0;34m(\u001b[0m\u001b[0;34m)\u001b[0m \u001b[0;34m-\u001b[0m \u001b[0mself\u001b[0m\u001b[0;34m.\u001b[0m\u001b[0m_start_time\u001b[0m\u001b[0;34m\u001b[0m\u001b[0m\n",
      "\u001b[0;32m/usr/local/lib/python3.5/dist-packages/sklearn/externals/joblib/parallel.py\u001b[0m in \u001b[0;36mretrieve\u001b[0;34m(self)\u001b[0m\n\u001b[1;32m    717\u001b[0m                     \u001b[0mensure_ready\u001b[0m \u001b[0;34m=\u001b[0m \u001b[0mself\u001b[0m\u001b[0;34m.\u001b[0m\u001b[0m_managed_backend\u001b[0m\u001b[0;34m\u001b[0m\u001b[0m\n\u001b[1;32m    718\u001b[0m                     \u001b[0mbackend\u001b[0m\u001b[0;34m.\u001b[0m\u001b[0mabort_everything\u001b[0m\u001b[0;34m(\u001b[0m\u001b[0mensure_ready\u001b[0m\u001b[0;34m=\u001b[0m\u001b[0mensure_ready\u001b[0m\u001b[0;34m)\u001b[0m\u001b[0;34m\u001b[0m\u001b[0m\n\u001b[0;32m--> 719\u001b[0;31m                 \u001b[0;32mraise\u001b[0m \u001b[0mexception\u001b[0m\u001b[0;34m\u001b[0m\u001b[0m\n\u001b[0m\u001b[1;32m    720\u001b[0m \u001b[0;34m\u001b[0m\u001b[0m\n\u001b[1;32m    721\u001b[0m     \u001b[0;32mdef\u001b[0m \u001b[0m__call__\u001b[0m\u001b[0;34m(\u001b[0m\u001b[0mself\u001b[0m\u001b[0;34m,\u001b[0m \u001b[0miterable\u001b[0m\u001b[0;34m)\u001b[0m\u001b[0;34m:\u001b[0m\u001b[0;34m\u001b[0m\u001b[0m\n",
      "\u001b[0;32m/usr/local/lib/python3.5/dist-packages/sklearn/externals/joblib/parallel.py\u001b[0m in \u001b[0;36mretrieve\u001b[0;34m(self)\u001b[0m\n\u001b[1;32m    680\u001b[0m                 \u001b[0;31m# check if timeout supported in backend future implementation\u001b[0m\u001b[0;34m\u001b[0m\u001b[0;34m\u001b[0m\u001b[0m\n\u001b[1;32m    681\u001b[0m                 \u001b[0;32mif\u001b[0m \u001b[0;34m'timeout'\u001b[0m \u001b[0;32min\u001b[0m \u001b[0mgetfullargspec\u001b[0m\u001b[0;34m(\u001b[0m\u001b[0mjob\u001b[0m\u001b[0;34m.\u001b[0m\u001b[0mget\u001b[0m\u001b[0;34m)\u001b[0m\u001b[0;34m.\u001b[0m\u001b[0margs\u001b[0m\u001b[0;34m:\u001b[0m\u001b[0;34m\u001b[0m\u001b[0m\n\u001b[0;32m--> 682\u001b[0;31m                     \u001b[0mself\u001b[0m\u001b[0;34m.\u001b[0m\u001b[0m_output\u001b[0m\u001b[0;34m.\u001b[0m\u001b[0mextend\u001b[0m\u001b[0;34m(\u001b[0m\u001b[0mjob\u001b[0m\u001b[0;34m.\u001b[0m\u001b[0mget\u001b[0m\u001b[0;34m(\u001b[0m\u001b[0mtimeout\u001b[0m\u001b[0;34m=\u001b[0m\u001b[0mself\u001b[0m\u001b[0;34m.\u001b[0m\u001b[0mtimeout\u001b[0m\u001b[0;34m)\u001b[0m\u001b[0;34m)\u001b[0m\u001b[0;34m\u001b[0m\u001b[0m\n\u001b[0m\u001b[1;32m    683\u001b[0m                 \u001b[0;32melse\u001b[0m\u001b[0;34m:\u001b[0m\u001b[0;34m\u001b[0m\u001b[0m\n\u001b[1;32m    684\u001b[0m                     \u001b[0mself\u001b[0m\u001b[0;34m.\u001b[0m\u001b[0m_output\u001b[0m\u001b[0;34m.\u001b[0m\u001b[0mextend\u001b[0m\u001b[0;34m(\u001b[0m\u001b[0mjob\u001b[0m\u001b[0;34m.\u001b[0m\u001b[0mget\u001b[0m\u001b[0;34m(\u001b[0m\u001b[0;34m)\u001b[0m\u001b[0;34m)\u001b[0m\u001b[0;34m\u001b[0m\u001b[0m\n",
      "\u001b[0;32m/usr/lib/python3.5/multiprocessing/pool.py\u001b[0m in \u001b[0;36mget\u001b[0;34m(self, timeout)\u001b[0m\n\u001b[1;32m    600\u001b[0m \u001b[0;34m\u001b[0m\u001b[0m\n\u001b[1;32m    601\u001b[0m     \u001b[0;32mdef\u001b[0m \u001b[0mget\u001b[0m\u001b[0;34m(\u001b[0m\u001b[0mself\u001b[0m\u001b[0;34m,\u001b[0m \u001b[0mtimeout\u001b[0m\u001b[0;34m=\u001b[0m\u001b[0;32mNone\u001b[0m\u001b[0;34m)\u001b[0m\u001b[0;34m:\u001b[0m\u001b[0;34m\u001b[0m\u001b[0m\n\u001b[0;32m--> 602\u001b[0;31m         \u001b[0mself\u001b[0m\u001b[0;34m.\u001b[0m\u001b[0mwait\u001b[0m\u001b[0;34m(\u001b[0m\u001b[0mtimeout\u001b[0m\u001b[0;34m)\u001b[0m\u001b[0;34m\u001b[0m\u001b[0m\n\u001b[0m\u001b[1;32m    603\u001b[0m         \u001b[0;32mif\u001b[0m \u001b[0;32mnot\u001b[0m \u001b[0mself\u001b[0m\u001b[0;34m.\u001b[0m\u001b[0mready\u001b[0m\u001b[0;34m(\u001b[0m\u001b[0;34m)\u001b[0m\u001b[0;34m:\u001b[0m\u001b[0;34m\u001b[0m\u001b[0m\n\u001b[1;32m    604\u001b[0m             \u001b[0;32mraise\u001b[0m \u001b[0mTimeoutError\u001b[0m\u001b[0;34m\u001b[0m\u001b[0m\n",
      "\u001b[0;32m/usr/lib/python3.5/multiprocessing/pool.py\u001b[0m in \u001b[0;36mwait\u001b[0;34m(self, timeout)\u001b[0m\n\u001b[1;32m    597\u001b[0m \u001b[0;34m\u001b[0m\u001b[0m\n\u001b[1;32m    598\u001b[0m     \u001b[0;32mdef\u001b[0m \u001b[0mwait\u001b[0m\u001b[0;34m(\u001b[0m\u001b[0mself\u001b[0m\u001b[0;34m,\u001b[0m \u001b[0mtimeout\u001b[0m\u001b[0;34m=\u001b[0m\u001b[0;32mNone\u001b[0m\u001b[0;34m)\u001b[0m\u001b[0;34m:\u001b[0m\u001b[0;34m\u001b[0m\u001b[0m\n\u001b[0;32m--> 599\u001b[0;31m         \u001b[0mself\u001b[0m\u001b[0;34m.\u001b[0m\u001b[0m_event\u001b[0m\u001b[0;34m.\u001b[0m\u001b[0mwait\u001b[0m\u001b[0;34m(\u001b[0m\u001b[0mtimeout\u001b[0m\u001b[0;34m)\u001b[0m\u001b[0;34m\u001b[0m\u001b[0m\n\u001b[0m\u001b[1;32m    600\u001b[0m \u001b[0;34m\u001b[0m\u001b[0m\n\u001b[1;32m    601\u001b[0m     \u001b[0;32mdef\u001b[0m \u001b[0mget\u001b[0m\u001b[0;34m(\u001b[0m\u001b[0mself\u001b[0m\u001b[0;34m,\u001b[0m \u001b[0mtimeout\u001b[0m\u001b[0;34m=\u001b[0m\u001b[0;32mNone\u001b[0m\u001b[0;34m)\u001b[0m\u001b[0;34m:\u001b[0m\u001b[0;34m\u001b[0m\u001b[0m\n",
      "\u001b[0;32m/usr/lib/python3.5/threading.py\u001b[0m in \u001b[0;36mwait\u001b[0;34m(self, timeout)\u001b[0m\n\u001b[1;32m    547\u001b[0m             \u001b[0msignaled\u001b[0m \u001b[0;34m=\u001b[0m \u001b[0mself\u001b[0m\u001b[0;34m.\u001b[0m\u001b[0m_flag\u001b[0m\u001b[0;34m\u001b[0m\u001b[0m\n\u001b[1;32m    548\u001b[0m             \u001b[0;32mif\u001b[0m \u001b[0;32mnot\u001b[0m \u001b[0msignaled\u001b[0m\u001b[0;34m:\u001b[0m\u001b[0;34m\u001b[0m\u001b[0m\n\u001b[0;32m--> 549\u001b[0;31m                 \u001b[0msignaled\u001b[0m \u001b[0;34m=\u001b[0m \u001b[0mself\u001b[0m\u001b[0;34m.\u001b[0m\u001b[0m_cond\u001b[0m\u001b[0;34m.\u001b[0m\u001b[0mwait\u001b[0m\u001b[0;34m(\u001b[0m\u001b[0mtimeout\u001b[0m\u001b[0;34m)\u001b[0m\u001b[0;34m\u001b[0m\u001b[0m\n\u001b[0m\u001b[1;32m    550\u001b[0m             \u001b[0;32mreturn\u001b[0m \u001b[0msignaled\u001b[0m\u001b[0;34m\u001b[0m\u001b[0m\n\u001b[1;32m    551\u001b[0m \u001b[0;34m\u001b[0m\u001b[0m\n",
      "\u001b[0;32m/usr/lib/python3.5/threading.py\u001b[0m in \u001b[0;36mwait\u001b[0;34m(self, timeout)\u001b[0m\n\u001b[1;32m    291\u001b[0m         \u001b[0;32mtry\u001b[0m\u001b[0;34m:\u001b[0m    \u001b[0;31m# restore state no matter what (e.g., KeyboardInterrupt)\u001b[0m\u001b[0;34m\u001b[0m\u001b[0m\n\u001b[1;32m    292\u001b[0m             \u001b[0;32mif\u001b[0m \u001b[0mtimeout\u001b[0m \u001b[0;32mis\u001b[0m \u001b[0;32mNone\u001b[0m\u001b[0;34m:\u001b[0m\u001b[0;34m\u001b[0m\u001b[0m\n\u001b[0;32m--> 293\u001b[0;31m                 \u001b[0mwaiter\u001b[0m\u001b[0;34m.\u001b[0m\u001b[0macquire\u001b[0m\u001b[0;34m(\u001b[0m\u001b[0;34m)\u001b[0m\u001b[0;34m\u001b[0m\u001b[0m\n\u001b[0m\u001b[1;32m    294\u001b[0m                 \u001b[0mgotit\u001b[0m \u001b[0;34m=\u001b[0m \u001b[0;32mTrue\u001b[0m\u001b[0;34m\u001b[0m\u001b[0m\n\u001b[1;32m    295\u001b[0m             \u001b[0;32melse\u001b[0m\u001b[0;34m:\u001b[0m\u001b[0;34m\u001b[0m\u001b[0m\n",
      "\u001b[0;31mKeyboardInterrupt\u001b[0m: "
     ]
    }
   ],
   "source": [
    "%%time\n",
    "q=[]\n",
    "for i in range(1,5):    \n",
    "    ester=svm.LinearSVC(tol=0.0071,C=1.7990,intercept_scaling=19.9007) #подбиралл колличество n-gramm, т.к.\n",
    "    tf=feature_extraction.text.TfidfVectorizer(sublinear_tf=True,ngram_range=(1,i))#баес их совсем плохо учитывал\n",
    "    X_es=tf.fit_transform(X1)\n",
    "    z=cross_validation.cross_val_score(ester,X_es,y1,cv=5,n_jobs=5).mean()\n",
    "    q.append((z,i))\n",
    "    print(z)"
   ]
  },
  {
   "cell_type": "code",
   "execution_count": 5,
   "metadata": {},
   "outputs": [
    {
     "name": "stdout",
     "output_type": "stream",
     "text": [
      "CPU times: user 3.65 s, sys: 4 ms, total: 3.65 s\n",
      "Wall time: 3.71 s\n"
     ]
    }
   ],
   "source": [
    "%%time\n",
    "ester=svm.LinearSVC(tol=0.0976,C=1.7990,intercept_scaling=0.0283)#два наиболее различных, \n",
    "                                                                 #лучше всего себя показавших решения\n",
    "    \n",
    "tf = feature_extraction.text.TfidfVectorizer(sublinear_tf=True,ngram_range=(1,1))\n",
    "X_es = tf.fit_transform(X1)\n",
    "tes1=tf.transform(test.NAME)\n",
    "\n",
    "ester.fit(X_es,y1)\n",
    "\n"
   ]
  },
  {
   "cell_type": "code",
   "execution_count": 6,
   "metadata": {
    "collapsed": true
   },
   "outputs": [],
   "source": [
    "y_pred=ester.predict(tes1)\n",
    "\n",
    "df_sub = pd.DataFrame({ 'GROUP_ID':y_pred })\n",
    "\n",
    "df_sub.to_csv('./sub_newbayes.csv')"
   ]
  },
  {
   "cell_type": "code",
   "execution_count": 17,
   "metadata": {},
   "outputs": [
    {
     "name": "stdout",
     "output_type": "stream",
     "text": [
      "CPU times: user 2min 57s, sys: 32 ms, total: 2min 57s\n",
      "Wall time: 2min 57s\n"
     ]
    }
   ],
   "source": [
    "%%time\n",
    "ester=svm.LinearSVC(tol=0.0975,C=1.349,intercept_scaling=15.6865)#даже интересно, какое в итоге победило\n",
    "    \n",
    "tf = feature_extraction.text.TfidfVectorizer(sublinear_tf=True,ngram_range=(1,1))\n",
    "X_es = tf.fit_transform(X1)\n",
    "tes1=tf.transform(test.NAME)\n",
    "\n",
    "ester.fit(X_es,y1)\n",
    "\n",
    "y_pred=ester.predict(tes1)\n",
    "\n",
    "df_sub = pd.DataFrame({ 'GROUP_ID':y_pred })\n",
    "\n",
    "df_sub.to_csv('./sub.csv')"
   ]
  },
  {
   "cell_type": "code",
   "execution_count": null,
   "metadata": {
    "collapsed": true
   },
   "outputs": [],
   "source": []
  }
 ],
 "metadata": {
  "kernelspec": {
   "display_name": "Python 3",
   "language": "python",
   "name": "python3"
  },
  "language_info": {
   "codemirror_mode": {
    "name": "ipython",
    "version": 3
   },
   "file_extension": ".py",
   "mimetype": "text/x-python",
   "name": "python",
   "nbconvert_exporter": "python",
   "pygments_lexer": "ipython3",
   "version": "3.5.3"
  }
 },
 "nbformat": 4,
 "nbformat_minor": 2
}
